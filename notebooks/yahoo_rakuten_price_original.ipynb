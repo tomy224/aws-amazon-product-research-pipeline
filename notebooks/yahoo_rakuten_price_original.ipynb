{
 "cells": [
  {
   "cell_type": "code",
   "execution_count": null,
   "id": "e4ce75f4-c7a5-4e3e-b962-d4ad7dab01a0",
   "metadata": {},
   "outputs": [],
   "source": [
    "# 開発履歴参照のため残しておく。実行は「yahoo_rakuten_price.py」。\n",
    "\n",
    "# セル1: 共通ライブラリとクラス定義\n",
    "\n",
    "import os\n",
    "import yaml\n",
    "import json\n",
    "import requests\n",
    "import pandas as pd\n",
    "import time\n",
    "from dotenv import load_dotenv\n",
    "from datetime import datetime\n",
    "import logging\n",
    "from pathlib import Path\n",
    "import csv\n",
    "\n",
    "class YahooRakutenPriceSearch:\n",
    "    \"\"\"\n",
    "    ヤフーショッピングと楽天のAPIを使用して商品の最安値情報を検索するクラス\n",
    "    \"\"\"\n",
    "    \n",
    "    def __init__(self, config_path=None):\n",
    "        \"\"\"\n",
    "        YahooRakutenPriceSearchクラスの初期化\n",
    "        \n",
    "        Parameters:\n",
    "            config_path (str, optional): 設定ファイルのパス\n",
    "        \"\"\"\n",
    "        # プロジェクトルートディレクトリの検出\n",
    "        self.root_dir = self._find_project_root()\n",
    "        \n",
    "        # 環境変数の読み込み\n",
    "        load_dotenv(os.path.join(self.root_dir, '.env'))\n",
    "        \n",
    "        # ディレクトリパスの設定\n",
    "        self.data_dir = os.path.join(self.root_dir, 'data')\n",
    "        self.log_dir = os.path.join(self.root_dir, 'logs')\n",
    "        \n",
    "        # ディレクトリが存在しない場合は作成\n",
    "        os.makedirs(self.data_dir, exist_ok=True)\n",
    "        os.makedirs(self.log_dir, exist_ok=True)\n",
    "        \n",
    "        # 設定ファイルの読み込み\n",
    "        self.config = self._load_config(config_path)\n",
    "        \n",
    "        # APIキーの設定（環境変数から取得）\n",
    "        self.yahoo_client_id = os.getenv('YAHOO_CLIENT_ID')\n",
    "        if not self.yahoo_client_id:\n",
    "            raise ValueError(\"YAHOO_CLIENT_IDが環境変数に設定されていません\")\n",
    "            \n",
    "        self.rakuten_application_id = os.getenv('RAKUTEN_APPLICATION_ID')\n",
    "        if not self.rakuten_application_id:\n",
    "            # 環境変数がない場合はデフォルト値を使用\n",
    "            self.rakuten_application_id = \"1015757852035447235\"\n",
    "            print(f\"環境変数RAKUTEN_APPLICATION_IDが設定されていないため、デフォルト値を使用します: {self.rakuten_application_id}\")\n",
    "        \n",
    "        # ログ設定\n",
    "        self.setup_logging()\n",
    "        \n",
    "        # APIのベースURL\n",
    "        self.yahoo_base_url = \"https://shopping.yahooapis.jp/ShoppingWebService/V3/itemSearch\"\n",
    "        self.rakuten_base_url = \"https://app.rakuten.co.jp/services/api/IchibaItem/Search/20220601\"\n",
    "        \n",
    "        # 出力ファイル名\n",
    "        self.output_file = os.path.join(self.data_dir, self.config['price_search']['output']['output_file'])\n",
    "    \n",
    "    def _find_project_root(self):\n",
    "        \"\"\"プロジェクトのルートディレクトリを検出する\"\"\"\n",
    "        # 現在のファイルの絶対パスを取得\n",
    "        current_dir = os.path.abspath(os.getcwd())\n",
    "        \n",
    "        # 親ディレクトリを探索\n",
    "        path = Path(current_dir)\n",
    "        while True:\n",
    "            # .gitディレクトリがあればそれをルートとみなす\n",
    "            if (path / '.git').exists():\n",
    "                return str(path)\n",
    "            \n",
    "            # プロジェクトのルートを示す他のファイル/ディレクトリの存在チェック\n",
    "            if (path / 'setup.py').exists() or (path / 'README.md').exists():\n",
    "                return str(path)\n",
    "            \n",
    "            # これ以上上の階層がない場合は現在のディレクトリを返す\n",
    "            if path.parent == path:\n",
    "                return str(path)\n",
    "            \n",
    "            # 親ディレクトリへ\n",
    "            path = path.parent\n",
    "    \n",
    "    def _load_config(self, config_path=None):\n",
    "        \"\"\"設定ファイルを読み込む\"\"\"\n",
    "        # デフォルトのパス\n",
    "        if config_path is None:\n",
    "            config_path = os.path.join(self.root_dir, 'config', 'settings.yaml')\n",
    "        \n",
    "        print(f\"設定ファイルパス: {config_path}\")\n",
    "        \n",
    "        try:\n",
    "            if not os.path.exists(config_path):\n",
    "                raise FileNotFoundError(f\"設定ファイルが見つかりません: {config_path}\")\n",
    "                \n",
    "            # YAMLファイルを読み込む\n",
    "            with open(config_path, 'r', encoding='utf-8') as f:\n",
    "                config = yaml.safe_load(f)\n",
    "            \n",
    "            # デフォルト設定の追加\n",
    "            if 'price_search' not in config:\n",
    "                config['price_search'] = {}\n",
    "            \n",
    "            # 出力設定（なければデフォルト値を設定）\n",
    "            if 'output' not in config['price_search']:\n",
    "                config['price_search']['output'] = {\n",
    "                    'csv_filename': 'yahoo_rakuten_price_output.csv',\n",
    "                    'input_file': 'jan_list.csv'\n",
    "                }\n",
    "            \n",
    "            print(\"設定ファイルを正常に読み込みました\")\n",
    "            return config\n",
    "        except Exception as e:\n",
    "            print(f\"設定ファイルの読み込みエラー: {str(e)}\")\n",
    "            # エラーを上位に伝播させる\n",
    "            raise\n",
    "    \n",
    "    def setup_logging(self):\n",
    "        \"\"\"ログ機能のセットアップ\"\"\"\n",
    "        # すでに存在するハンドラを削除（重複を防ぐため）\n",
    "        for handler in logging.root.handlers[:]:\n",
    "            logging.root.removeHandler(handler)\n",
    "        \n",
    "        # ログファイルパスの設定\n",
    "        log_filename = f'price_search_{datetime.now().strftime(\"%Y%m%d_%H%M%S\")}.log'\n",
    "        log_file = os.path.join(self.log_dir, log_filename)\n",
    "        \n",
    "        # 基本設定\n",
    "        logging.basicConfig(\n",
    "            filename=log_file,\n",
    "            level=logging.INFO,\n",
    "            format='%(asctime)s - %(levelname)s - %(message)s',\n",
    "            encoding='utf-8'\n",
    "        )\n",
    "        \n",
    "        # コンソールにもログを出力\n",
    "        console = logging.StreamHandler()\n",
    "        console.setLevel(logging.INFO)\n",
    "        formatter = logging.Formatter('%(asctime)s - %(levelname)s - %(message)s')\n",
    "        console.setFormatter(formatter)\n",
    "        logging.getLogger('').addHandler(console)\n",
    "        \n",
    "        # ログファイルの場所を明示的に表示\n",
    "        print(f\"ログファイル出力先: {log_file}\")\n",
    "        logging.info(f\"ログ機能の初期化が完了しました: {log_file}\")\n",
    "        \n",
    "    def load_jan_codes(self, input_file=None):\n",
    "        \"\"\"\n",
    "        CSVファイルからJANコードを読み込む\n",
    "        \n",
    "        Parameters:\n",
    "            input_file (str, optional): 入力CSVファイルのパス\n",
    "            \n",
    "        Returns:\n",
    "            list: JANコードのリスト\n",
    "        \"\"\"\n",
    "        # 入力ファイルのパスを設定\n",
    "        if input_file is None:\n",
    "            input_file = os.path.join(self.data_dir, self.config['price_search']['output']['input_file'])\n",
    "        \n",
    "        jan_codes = []\n",
    "        \n",
    "        try:\n",
    "            if not os.path.exists(input_file):\n",
    "                raise FileNotFoundError(f\"入力ファイルが見つかりません: {input_file}\")\n",
    "            \n",
    "            # CSVファイルの読み込み\n",
    "            with open(input_file, 'r', encoding='utf-8-sig') as f:\n",
    "                reader = csv.reader(f)\n",
    "                header = next(reader, None)  # ヘッダー行を読み飛ばす\n",
    "                \n",
    "                # JANコード列を探す\n",
    "                jan_col = 0\n",
    "                if header:\n",
    "                    for i, col in enumerate(header):\n",
    "                        if 'JAN' in col.upper() or 'コード' in col or 'CODE' in col.upper():\n",
    "                            jan_col = i\n",
    "                            break\n",
    "                \n",
    "                # 各行からJANコードを取得\n",
    "                for row in reader:\n",
    "                    if row and len(row) > jan_col and row[jan_col].strip():\n",
    "                        jan_code = row[jan_col].strip()\n",
    "                        # 数字のみで構成されているか確認\n",
    "                        if jan_code.isdigit():\n",
    "                            jan_codes.append(jan_code)\n",
    "            \n",
    "            logging.info(f\"{len(jan_codes)}件のJANコードを読み込みました\")\n",
    "            print(f\"{len(jan_codes)}件のJANコードを読み込みました: {input_file}\")\n",
    "            \n",
    "            return jan_codes\n",
    "            \n",
    "        except Exception as e:\n",
    "            logging.error(f\"JANコード読み込みエラー: {str(e)}\")\n",
    "            print(f\"JANコード読み込みエラー: {str(e)}\")\n",
    "            return []\n",
    "    \n",
    "    def save_to_csv(self, products, append=False):\n",
    "        \"\"\"\n",
    "        商品情報をCSVファイルに保存\n",
    "        \n",
    "        Parameters:\n",
    "            products (list): 商品情報のリスト\n",
    "            append (bool): 追記モードか上書きモードか\n",
    "        \"\"\"\n",
    "        if not products:\n",
    "            logging.warning(\"保存する商品情報がありません\")\n",
    "            return\n",
    "        \n",
    "        # DataFrameに変換\n",
    "        df = pd.DataFrame(products)\n",
    "        \n",
    "        # 保存モード\n",
    "        mode = 'a' if append else 'w'\n",
    "        header = not append or not os.path.exists(self.output_file)\n",
    "        \n",
    "        # CSVに保存\n",
    "        df.to_csv(self.output_file, mode=mode, index=False, encoding='utf-8-sig', header=header)\n",
    "        \n",
    "        action = \"追記\" if append else \"保存\"\n",
    "        logging.info(f\"{len(products)}件の商品情報を{action}しました: {self.output_file}\")\n",
    "        print(f\"{len(products)}件の商品情報を{action}しました: {self.output_file}\")"
   ]
  },
  {
   "cell_type": "code",
   "execution_count": 3,
   "id": "7933eabb-f66b-4236-92e8-8e35c0262409",
   "metadata": {},
   "outputs": [],
   "source": [
    "# セル2: ヤフーショッピングAPI実装部分\n",
    "\n",
    "# yahoo_search_by_jan メソッドを修正\n",
    "def yahoo_search_by_jan(self, jan_code, max_items=3):\n",
    "    \"\"\"\n",
    "    ヤフーショッピングAPIでJANコードから商品を検索し、最安値順に上位の商品情報を取得する\n",
    "    \n",
    "    Parameters:\n",
    "        jan_code (str): 検索するJANコード\n",
    "        max_items (int): 取得する最大商品数（デフォルト: 3）\n",
    "        \n",
    "    Returns:\n",
    "        list: 商品情報のリスト（価格、送料条件、商品URL）\n",
    "    \"\"\"\n",
    "    # パラメータの設定\n",
    "    params = {\n",
    "        'appid': self.yahoo_client_id,\n",
    "        'jan_code': jan_code,  # JANコードで検索\n",
    "        'availability': 1,     # 在庫あり\n",
    "        'condition': 'new',    # 新品\n",
    "        'sort': '+price',      # 価格の安い順\n",
    "        'results': max_items   # 取得する商品数\n",
    "    }\n",
    "    \n",
    "    try:\n",
    "        # APIリクエスト\n",
    "        logging.info(f\"Yahoo: JANコード {jan_code} の商品検索を開始\")\n",
    "        print(f\"Yahoo: JANコード {jan_code} の商品検索中...\")\n",
    "        \n",
    "        response = requests.get(self.yahoo_base_url, params=params)\n",
    "        \n",
    "        # HTTPステータスコードのチェック\n",
    "        response.raise_for_status()\n",
    "        \n",
    "        # JSONに変換\n",
    "        data = response.json()\n",
    "        \n",
    "        # 取得した商品情報を整形\n",
    "        products = []\n",
    "        for i, hit in enumerate(data.get('hits', []), 1):\n",
    "            price = hit.get('price', 0)\n",
    "            shipping_condition = hit.get('shipping', {}).get('name', '不明') if hit.get('shipping') else '不明'\n",
    "            \n",
    "            # 送料条件に応じて価格_条件込みを設定\n",
    "            if shipping_condition == '送料無料':\n",
    "                formatted_price = str(price)  # そのまま\n",
    "            elif shipping_condition == '条件付き送料無料':\n",
    "                formatted_price = f'〈{price}〉'  # 〈〉で囲む\n",
    "            else:  # '送料別'や'設定なし'の場合\n",
    "                formatted_price = f'【{price}】'  # 【】で囲む\n",
    "            \n",
    "            product = {\n",
    "                'JAN': jan_code,\n",
    "                'API': f'Yahoo{i}',\n",
    "                '価格': price,\n",
    "                '送料条件': shipping_condition,\n",
    "                '価格_条件込み': formatted_price,\n",
    "                '商品URL': hit.get('url', '')\n",
    "            }\n",
    "            products.append(product)\n",
    "        \n",
    "        logging.info(f\"Yahoo: JANコード {jan_code} の商品検索結果: {len(products)}件\")\n",
    "        return products\n",
    "        \n",
    "    except requests.exceptions.RequestException as e:\n",
    "        logging.error(f\"Yahoo APIリクエストエラー: {str(e)}\")\n",
    "        return []\n",
    "\n",
    "# クラスにメソッドを追加\n",
    "YahooRakutenPriceSearch.yahoo_search_by_jan = yahoo_search_by_jan"
   ]
  },
  {
   "cell_type": "code",
   "execution_count": 4,
   "id": "b7eedcf7-53aa-4255-812e-4060a3bd1929",
   "metadata": {},
   "outputs": [],
   "source": [
    "# セル3: 楽天API実装部分\n",
    "\n",
    "# rakuten_search_by_jan メソッドを修正\n",
    "def rakuten_search_by_jan(self, jan_code, max_items=3):\n",
    "    \"\"\"\n",
    "    楽天APIでJANコードから商品を検索し、最安値順に上位の商品情報を取得する\n",
    "    \n",
    "    Parameters:\n",
    "        jan_code (str): 検索するJANコード\n",
    "        max_items (int): 取得する最大商品数（デフォルト: 3）\n",
    "        \n",
    "    Returns:\n",
    "        list: 商品情報のリスト（価格、送料条件、商品URL）\n",
    "    \"\"\"\n",
    "    # パラメータの設定\n",
    "    params = {\n",
    "        'applicationId': self.rakuten_application_id,\n",
    "        'keyword': jan_code,            # JANコードをキーワードとして検索\n",
    "        'hits': max_items,              # 最大取得件数\n",
    "        'sort': '+itemPrice',           # 価格の安い順にソート\n",
    "        'format': 'json',               # レスポンス形式\n",
    "        'formatVersion': 2              # API形式バージョン\n",
    "    }\n",
    "    \n",
    "    try:\n",
    "        # APIリクエスト\n",
    "        logging.info(f\"Rakuten: JANコード {jan_code} の商品検索を開始\")\n",
    "        print(f\"Rakuten: JANコード {jan_code} の商品検索中...\")\n",
    "        \n",
    "        response = requests.get(self.rakuten_base_url, params=params)\n",
    "        \n",
    "        # HTTPステータスコードのチェック\n",
    "        response.raise_for_status()\n",
    "        \n",
    "        # JSONに変換\n",
    "        data = response.json()\n",
    "        \n",
    "        # 取得した商品情報を整形\n",
    "        products = []\n",
    "        \n",
    "        # Itemsが存在するかチェック\n",
    "        if 'Items' in data and data['Items']:\n",
    "            for i, item in enumerate(data['Items'], 1):\n",
    "                price = item.get('itemPrice', 0)\n",
    "                shipping_condition = '送料込み' if item.get('postageFlag', 0) == 0 else '送料別'\n",
    "                \n",
    "                # 送料条件に応じて価格_条件込みを設定\n",
    "                if shipping_condition == '送料込み':\n",
    "                    formatted_price = str(price)  # そのまま\n",
    "                else:  # '送料別'の場合\n",
    "                    formatted_price = f'【{price}】'  # 【】で囲む\n",
    "                \n",
    "                # URLからアフィリエイト部分を削除\n",
    "                original_url = item.get('itemUrl', '')\n",
    "                clean_url = original_url.split('?')[0]  # '?'以降を削除\n",
    "                \n",
    "                # 商品情報の直接取得\n",
    "                product = {\n",
    "                    'JAN': jan_code,\n",
    "                    'API': f'Rakuten{i}',\n",
    "                    '価格': price,\n",
    "                    '送料条件': shipping_condition,\n",
    "                    '価格_条件込み': formatted_price,\n",
    "                    '商品URL': clean_url\n",
    "                }\n",
    "                \n",
    "                # 有効な情報が取得できた場合のみ追加\n",
    "                if product['価格'] > 0 or product['商品URL']:\n",
    "                    products.append(product)\n",
    "            \n",
    "            logging.info(f\"Rakuten: JANコード {jan_code} の商品検索結果: {len(products)}件\")\n",
    "        else:\n",
    "            logging.info(f\"Rakuten: JANコード {jan_code} の商品情報が見つかりません\")\n",
    "        \n",
    "        return products\n",
    "        \n",
    "    except requests.exceptions.RequestException as e:\n",
    "        logging.error(f\"Rakuten APIリクエストエラー: {str(e)}\")\n",
    "        return []\n",
    "\n",
    "# クラスにメソッドを追加\n",
    "YahooRakutenPriceSearch.rakuten_search_by_jan = rakuten_search_by_jan"
   ]
  },
  {
   "cell_type": "code",
   "execution_count": 5,
   "id": "be979179-f436-40c4-a55b-f5fb04e45fa9",
   "metadata": {},
   "outputs": [],
   "source": [
    "# セル4: JAN読み込みと交互検索の実装\n",
    "\n",
    "# YahooRakutenPriceSearchクラスに交互検索機能を追加\n",
    "def alternating_search(self, input_file=None, max_items=3):\n",
    "    \"\"\"\n",
    "    JANコードをCSVから読み込み、ヤフーショッピングと楽天APIを交互に使用して検索\n",
    "    ヤフーショッピングAPI: 2秒間隔\n",
    "    楽天API: 1秒間隔\n",
    "    \n",
    "    Parameters:\n",
    "        input_file (str, optional): 入力ファイルのパス\n",
    "        max_items (int): 各JANコードごとに取得する最大商品数\n",
    "        \n",
    "    Returns:\n",
    "        int: 検索した総商品数\n",
    "    \"\"\"\n",
    "    # JANコードの読み込み\n",
    "    jan_codes = self.load_jan_codes(input_file)\n",
    "    \n",
    "    if not jan_codes:\n",
    "        logging.warning(\"処理対象のJANコードがありません\")\n",
    "        return 0\n",
    "    \n",
    "    # 初回は上書きモードで保存フラグを設定（空のレコードは作成しない）\n",
    "    first_save = True\n",
    "    \n",
    "    # 総検索商品数\n",
    "    total_items = 0\n",
    "    \n",
    "    # 前回のYahoo APIリクエスト時刻を記録\n",
    "    last_yahoo_request = time.time()\n",
    "    \n",
    "    # JANコードごとに交互検索\n",
    "    for i, jan_code in enumerate(jan_codes):\n",
    "        print(f\"\\n===== JANコード {jan_code} の検索を開始 ({i+1}/{len(jan_codes)}) =====\")\n",
    "        \n",
    "        # 1. Yahoo検索（最低2秒間隔を確保）\n",
    "        current_time = time.time()\n",
    "        time_since_last_yahoo = current_time - last_yahoo_request\n",
    "        if time_since_last_yahoo < 2.0:\n",
    "            wait_time = 2.0 - time_since_last_yahoo\n",
    "            print(f\"Yahoo APIの制限のため {wait_time:.2f}秒 待機します...\")\n",
    "            time.sleep(wait_time)\n",
    "        \n",
    "        # Yahoo検索実行\n",
    "        yahoo_products = self.yahoo_search_by_jan(jan_code, max_items)\n",
    "        last_yahoo_request = time.time()  # Yahoo API呼び出し時刻を更新\n",
    "        \n",
    "        if yahoo_products:\n",
    "            # 初回は新規作成、2回目以降は追記\n",
    "            self.save_to_csv(yahoo_products, append=not first_save)\n",
    "            if first_save:\n",
    "                first_save = False\n",
    "            total_items += len(yahoo_products)\n",
    "        \n",
    "        # Yahoo API呼び出し後の安全な待機（1秒）\n",
    "        time.sleep(1.0)\n",
    "        \n",
    "        # 2. Rakuten検索\n",
    "        rakuten_products = self.rakuten_search_by_jan(jan_code, max_items)\n",
    "        if rakuten_products:\n",
    "            # 初回は新規作成、2回目以降は追記\n",
    "            self.save_to_csv(rakuten_products, append=not first_save)\n",
    "            if first_save:\n",
    "                first_save = False\n",
    "            total_items += len(rakuten_products)\n",
    "        \n",
    "        # Rakuten API呼び出し後の待機（1秒）\n",
    "        if i < len(jan_codes) - 1:\n",
    "            time.sleep(1.0)\n",
    "    \n",
    "    # 統計情報\n",
    "    print(f\"\\n===== 検索完了 =====\")\n",
    "    print(f\"処理したJANコード数: {len(jan_codes)}\")\n",
    "    print(f\"取得した商品情報数: {total_items}\")\n",
    "    \n",
    "    return total_items\n",
    "\n",
    "# クラスにメソッドを追加\n",
    "YahooRakutenPriceSearch.alternating_search = alternating_search"
   ]
  },
  {
   "cell_type": "code",
   "execution_count": 6,
   "id": "ba032a6c-2422-4a28-916a-2211dbfafd71",
   "metadata": {
    "scrolled": true
   },
   "outputs": [
    {
     "name": "stderr",
     "output_type": "stream",
     "text": [
      "2025-04-01 11:42:54,141 - INFO - ログ機能の初期化が完了しました: c:\\Users\\inato\\Documents\\amazon-research\\logs\\price_search_20250401_114254.log\n",
      "2025-04-01 11:42:54,141 - INFO - 1000件のJANコードを読み込みました\n"
     ]
    },
    {
     "name": "stdout",
     "output_type": "stream",
     "text": [
      "設定ファイルパス: c:\\Users\\inato\\Documents\\amazon-research\\config\\settings.yaml\n",
      "設定ファイルを正常に読み込みました\n",
      "ログファイル出力先: c:\\Users\\inato\\Documents\\amazon-research\\logs\\price_search_20250401_114254.log\n",
      "1000件のJANコードを読み込みました: c:\\Users\\inato\\Documents\\amazon-research\\data\\jan_list.csv\n",
      "\n",
      "===== JANコード 4901987230748 の検索を開始 (1/1000) =====\n",
      "Yahoo APIの制限のため 2.00秒 待機します...\n"
     ]
    },
    {
     "name": "stderr",
     "output_type": "stream",
     "text": [
      "2025-04-01 11:42:56,147 - INFO - Yahoo: JANコード 4901987230748 の商品検索を開始\n",
      "2025-04-01 11:42:56,241 - INFO - Yahoo: JANコード 4901987230748 の商品検索結果: 3件\n",
      "2025-04-01 11:42:56,249 - INFO - 3件の商品情報を保存しました: c:\\Users\\inato\\Documents\\amazon-research\\data\\yahoo_rakuten_price_output.csv\n"
     ]
    },
    {
     "name": "stdout",
     "output_type": "stream",
     "text": [
      "Yahoo: JANコード 4901987230748 の商品検索中...\n",
      "3件の商品情報を保存しました: c:\\Users\\inato\\Documents\\amazon-research\\data\\yahoo_rakuten_price_output.csv\n"
     ]
    },
    {
     "name": "stderr",
     "output_type": "stream",
     "text": [
      "2025-04-01 11:42:57,250 - INFO - Rakuten: JANコード 4901987230748 の商品検索を開始\n",
      "2025-04-01 11:42:57,341 - INFO - Rakuten: JANコード 4901987230748 の商品検索結果: 3件\n",
      "2025-04-01 11:42:57,342 - INFO - 3件の商品情報を追記しました: c:\\Users\\inato\\Documents\\amazon-research\\data\\yahoo_rakuten_price_output.csv\n"
     ]
    },
    {
     "name": "stdout",
     "output_type": "stream",
     "text": [
      "Rakuten: JANコード 4901987230748 の商品検索中...\n",
      "3件の商品情報を追記しました: c:\\Users\\inato\\Documents\\amazon-research\\data\\yahoo_rakuten_price_output.csv\n"
     ]
    },
    {
     "name": "stderr",
     "output_type": "stream",
     "text": [
      "2025-04-01 11:42:58,346 - INFO - Yahoo: JANコード 4901987230847 の商品検索を開始\n",
      "2025-04-01 11:42:58,427 - INFO - Yahoo: JANコード 4901987230847 の商品検索結果: 3件\n",
      "2025-04-01 11:42:58,427 - INFO - 3件の商品情報を追記しました: c:\\Users\\inato\\Documents\\amazon-research\\data\\yahoo_rakuten_price_output.csv\n"
     ]
    },
    {
     "name": "stdout",
     "output_type": "stream",
     "text": [
      "\n",
      "===== JANコード 4901987230847 の検索を開始 (2/1000) =====\n",
      "Yahoo: JANコード 4901987230847 の商品検索中...\n",
      "3件の商品情報を追記しました: c:\\Users\\inato\\Documents\\amazon-research\\data\\yahoo_rakuten_price_output.csv\n"
     ]
    },
    {
     "name": "stderr",
     "output_type": "stream",
     "text": [
      "2025-04-01 11:42:59,431 - INFO - Rakuten: JANコード 4901987230847 の商品検索を開始\n",
      "2025-04-01 11:42:59,491 - INFO - Rakuten: JANコード 4901987230847 の商品検索結果: 3件\n",
      "2025-04-01 11:42:59,491 - INFO - 3件の商品情報を追記しました: c:\\Users\\inato\\Documents\\amazon-research\\data\\yahoo_rakuten_price_output.csv\n"
     ]
    },
    {
     "name": "stdout",
     "output_type": "stream",
     "text": [
      "Rakuten: JANコード 4901987230847 の商品検索中...\n",
      "3件の商品情報を追記しました: c:\\Users\\inato\\Documents\\amazon-research\\data\\yahoo_rakuten_price_output.csv\n"
     ]
    },
    {
     "name": "stderr",
     "output_type": "stream",
     "text": [
      "2025-04-01 11:43:00,501 - INFO - Yahoo: JANコード 4549395104284 の商品検索を開始\n",
      "2025-04-01 11:43:00,576 - INFO - Yahoo: JANコード 4549395104284 の商品検索結果: 3件\n",
      "2025-04-01 11:43:00,576 - INFO - 3件の商品情報を追記しました: c:\\Users\\inato\\Documents\\amazon-research\\data\\yahoo_rakuten_price_output.csv\n"
     ]
    },
    {
     "name": "stdout",
     "output_type": "stream",
     "text": [
      "\n",
      "===== JANコード 4549395104284 の検索を開始 (3/1000) =====\n",
      "Yahoo: JANコード 4549395104284 の商品検索中...\n",
      "3件の商品情報を追記しました: c:\\Users\\inato\\Documents\\amazon-research\\data\\yahoo_rakuten_price_output.csv\n"
     ]
    },
    {
     "name": "stderr",
     "output_type": "stream",
     "text": [
      "2025-04-01 11:43:01,582 - INFO - Rakuten: JANコード 4549395104284 の商品検索を開始\n",
      "2025-04-01 11:43:01,641 - INFO - Rakuten: JANコード 4549395104284 の商品検索結果: 3件\n",
      "2025-04-01 11:43:01,641 - INFO - 3件の商品情報を追記しました: c:\\Users\\inato\\Documents\\amazon-research\\data\\yahoo_rakuten_price_output.csv\n"
     ]
    },
    {
     "name": "stdout",
     "output_type": "stream",
     "text": [
      "Rakuten: JANコード 4549395104284 の商品検索中...\n",
      "3件の商品情報を追記しました: c:\\Users\\inato\\Documents\\amazon-research\\data\\yahoo_rakuten_price_output.csv\n"
     ]
    },
    {
     "name": "stderr",
     "output_type": "stream",
     "text": [
      "2025-04-01 11:43:02,654 - INFO - Yahoo: JANコード 4977612140041 の商品検索を開始\n",
      "2025-04-01 11:43:02,737 - INFO - Yahoo: JANコード 4977612140041 の商品検索結果: 3件\n",
      "2025-04-01 11:43:02,741 - INFO - 3件の商品情報を追記しました: c:\\Users\\inato\\Documents\\amazon-research\\data\\yahoo_rakuten_price_output.csv\n"
     ]
    },
    {
     "name": "stdout",
     "output_type": "stream",
     "text": [
      "\n",
      "===== JANコード 4977612140041 の検索を開始 (4/1000) =====\n",
      "Yahoo: JANコード 4977612140041 の商品検索中...\n",
      "3件の商品情報を追記しました: c:\\Users\\inato\\Documents\\amazon-research\\data\\yahoo_rakuten_price_output.csv\n"
     ]
    },
    {
     "name": "stderr",
     "output_type": "stream",
     "text": [
      "2025-04-01 11:43:03,742 - INFO - Rakuten: JANコード 4977612140041 の商品検索を開始\n",
      "2025-04-01 11:43:03,821 - INFO - Rakuten: JANコード 4977612140041 の商品検索結果: 3件\n",
      "2025-04-01 11:43:03,821 - INFO - 3件の商品情報を追記しました: c:\\Users\\inato\\Documents\\amazon-research\\data\\yahoo_rakuten_price_output.csv\n"
     ]
    },
    {
     "name": "stdout",
     "output_type": "stream",
     "text": [
      "Rakuten: JANコード 4977612140041 の商品検索中...\n",
      "3件の商品情報を追記しました: c:\\Users\\inato\\Documents\\amazon-research\\data\\yahoo_rakuten_price_output.csv\n"
     ]
    },
    {
     "name": "stderr",
     "output_type": "stream",
     "text": [
      "2025-04-01 11:43:04,830 - INFO - Yahoo: JANコード 4977612140102 の商品検索を開始\n",
      "2025-04-01 11:43:04,905 - INFO - Yahoo: JANコード 4977612140102 の商品検索結果: 3件\n",
      "2025-04-01 11:43:04,913 - INFO - 3件の商品情報を追記しました: c:\\Users\\inato\\Documents\\amazon-research\\data\\yahoo_rakuten_price_output.csv\n"
     ]
    },
    {
     "name": "stdout",
     "output_type": "stream",
     "text": [
      "\n",
      "===== JANコード 4977612140102 の検索を開始 (5/1000) =====\n",
      "Yahoo: JANコード 4977612140102 の商品検索中...\n",
      "3件の商品情報を追記しました: c:\\Users\\inato\\Documents\\amazon-research\\data\\yahoo_rakuten_price_output.csv\n"
     ]
    },
    {
     "name": "stderr",
     "output_type": "stream",
     "text": [
      "2025-04-01 11:43:05,916 - INFO - Rakuten: JANコード 4977612140102 の商品検索を開始\n",
      "2025-04-01 11:43:05,983 - INFO - Rakuten: JANコード 4977612140102 の商品検索結果: 3件\n",
      "2025-04-01 11:43:05,986 - INFO - 3件の商品情報を追記しました: c:\\Users\\inato\\Documents\\amazon-research\\data\\yahoo_rakuten_price_output.csv\n"
     ]
    },
    {
     "name": "stdout",
     "output_type": "stream",
     "text": [
      "Rakuten: JANコード 4977612140102 の商品検索中...\n",
      "3件の商品情報を追記しました: c:\\Users\\inato\\Documents\\amazon-research\\data\\yahoo_rakuten_price_output.csv\n"
     ]
    },
    {
     "name": "stderr",
     "output_type": "stream",
     "text": [
      "2025-04-01 11:43:06,991 - INFO - Yahoo: JANコード 4977612140089 の商品検索を開始\n",
      "2025-04-01 11:43:07,074 - INFO - Yahoo: JANコード 4977612140089 の商品検索結果: 3件\n",
      "2025-04-01 11:43:07,077 - INFO - 3件の商品情報を追記しました: c:\\Users\\inato\\Documents\\amazon-research\\data\\yahoo_rakuten_price_output.csv\n"
     ]
    },
    {
     "name": "stdout",
     "output_type": "stream",
     "text": [
      "\n",
      "===== JANコード 4977612140089 の検索を開始 (6/1000) =====\n",
      "Yahoo: JANコード 4977612140089 の商品検索中...\n",
      "3件の商品情報を追記しました: c:\\Users\\inato\\Documents\\amazon-research\\data\\yahoo_rakuten_price_output.csv\n"
     ]
    },
    {
     "name": "stderr",
     "output_type": "stream",
     "text": [
      "2025-04-01 11:43:08,080 - INFO - Rakuten: JANコード 4977612140089 の商品検索を開始\n",
      "2025-04-01 11:43:08,144 - INFO - Rakuten: JANコード 4977612140089 の商品検索結果: 3件\n",
      "2025-04-01 11:43:08,157 - INFO - 3件の商品情報を追記しました: c:\\Users\\inato\\Documents\\amazon-research\\data\\yahoo_rakuten_price_output.csv\n"
     ]
    },
    {
     "name": "stdout",
     "output_type": "stream",
     "text": [
      "Rakuten: JANコード 4977612140089 の商品検索中...\n",
      "3件の商品情報を追記しました: c:\\Users\\inato\\Documents\\amazon-research\\data\\yahoo_rakuten_price_output.csv\n"
     ]
    },
    {
     "name": "stderr",
     "output_type": "stream",
     "text": [
      "2025-04-01 11:43:09,158 - INFO - Yahoo: JANコード 4977612140065 の商品検索を開始\n",
      "2025-04-01 11:43:09,244 - INFO - Yahoo: JANコード 4977612140065 の商品検索結果: 3件\n",
      "2025-04-01 11:43:09,244 - INFO - 3件の商品情報を追記しました: c:\\Users\\inato\\Documents\\amazon-research\\data\\yahoo_rakuten_price_output.csv\n"
     ]
    },
    {
     "name": "stdout",
     "output_type": "stream",
     "text": [
      "\n",
      "===== JANコード 4977612140065 の検索を開始 (7/1000) =====\n",
      "Yahoo: JANコード 4977612140065 の商品検索中...\n",
      "3件の商品情報を追記しました: c:\\Users\\inato\\Documents\\amazon-research\\data\\yahoo_rakuten_price_output.csv\n"
     ]
    },
    {
     "name": "stderr",
     "output_type": "stream",
     "text": [
      "2025-04-01 11:43:10,258 - INFO - Rakuten: JANコード 4977612140065 の商品検索を開始\n",
      "2025-04-01 11:43:10,332 - INFO - Rakuten: JANコード 4977612140065 の商品検索結果: 3件\n",
      "2025-04-01 11:43:10,334 - INFO - 3件の商品情報を追記しました: c:\\Users\\inato\\Documents\\amazon-research\\data\\yahoo_rakuten_price_output.csv\n"
     ]
    },
    {
     "name": "stdout",
     "output_type": "stream",
     "text": [
      "Rakuten: JANコード 4977612140065 の商品検索中...\n",
      "3件の商品情報を追記しました: c:\\Users\\inato\\Documents\\amazon-research\\data\\yahoo_rakuten_price_output.csv\n"
     ]
    },
    {
     "name": "stderr",
     "output_type": "stream",
     "text": [
      "2025-04-01 11:43:11,337 - INFO - Yahoo: JANコード 4977612140003 の商品検索を開始\n",
      "2025-04-01 11:43:11,431 - INFO - Yahoo: JANコード 4977612140003 の商品検索結果: 3件\n",
      "2025-04-01 11:43:11,434 - INFO - 3件の商品情報を追記しました: c:\\Users\\inato\\Documents\\amazon-research\\data\\yahoo_rakuten_price_output.csv\n"
     ]
    },
    {
     "name": "stdout",
     "output_type": "stream",
     "text": [
      "\n",
      "===== JANコード 4977612140003 の検索を開始 (8/1000) =====\n",
      "Yahoo: JANコード 4977612140003 の商品検索中...\n",
      "3件の商品情報を追記しました: c:\\Users\\inato\\Documents\\amazon-research\\data\\yahoo_rakuten_price_output.csv\n"
     ]
    },
    {
     "name": "stderr",
     "output_type": "stream",
     "text": [
      "2025-04-01 11:43:12,436 - INFO - Rakuten: JANコード 4977612140003 の商品検索を開始\n",
      "2025-04-01 11:43:12,507 - INFO - Rakuten: JANコード 4977612140003 の商品検索結果: 3件\n",
      "2025-04-01 11:43:12,512 - INFO - 3件の商品情報を追記しました: c:\\Users\\inato\\Documents\\amazon-research\\data\\yahoo_rakuten_price_output.csv\n"
     ]
    },
    {
     "name": "stdout",
     "output_type": "stream",
     "text": [
      "Rakuten: JANコード 4977612140003 の商品検索中...\n",
      "3件の商品情報を追記しました: c:\\Users\\inato\\Documents\\amazon-research\\data\\yahoo_rakuten_price_output.csv\n"
     ]
    },
    {
     "name": "stderr",
     "output_type": "stream",
     "text": [
      "2025-04-01 11:43:13,513 - INFO - Yahoo: JANコード 4977612140140 の商品検索を開始\n",
      "2025-04-01 11:43:13,607 - INFO - Yahoo: JANコード 4977612140140 の商品検索結果: 3件\n",
      "2025-04-01 11:43:13,610 - INFO - 3件の商品情報を追記しました: c:\\Users\\inato\\Documents\\amazon-research\\data\\yahoo_rakuten_price_output.csv\n"
     ]
    },
    {
     "name": "stdout",
     "output_type": "stream",
     "text": [
      "\n",
      "===== JANコード 4977612140140 の検索を開始 (9/1000) =====\n",
      "Yahoo: JANコード 4977612140140 の商品検索中...\n",
      "3件の商品情報を追記しました: c:\\Users\\inato\\Documents\\amazon-research\\data\\yahoo_rakuten_price_output.csv\n"
     ]
    },
    {
     "name": "stderr",
     "output_type": "stream",
     "text": [
      "2025-04-01 11:43:14,612 - INFO - Rakuten: JANコード 4977612140140 の商品検索を開始\n",
      "2025-04-01 11:43:14,699 - INFO - Rakuten: JANコード 4977612140140 の商品検索結果: 3件\n",
      "2025-04-01 11:43:14,702 - INFO - 3件の商品情報を追記しました: c:\\Users\\inato\\Documents\\amazon-research\\data\\yahoo_rakuten_price_output.csv\n"
     ]
    },
    {
     "name": "stdout",
     "output_type": "stream",
     "text": [
      "Rakuten: JANコード 4977612140140 の商品検索中...\n",
      "3件の商品情報を追記しました: c:\\Users\\inato\\Documents\\amazon-research\\data\\yahoo_rakuten_price_output.csv\n"
     ]
    },
    {
     "name": "stderr",
     "output_type": "stream",
     "text": [
      "2025-04-01 11:43:15,703 - INFO - Yahoo: JANコード 4902493450309 の商品検索を開始\n",
      "2025-04-01 11:43:15,774 - INFO - Yahoo: JANコード 4902493450309 の商品検索結果: 3件\n",
      "2025-04-01 11:43:15,786 - INFO - 3件の商品情報を追記しました: c:\\Users\\inato\\Documents\\amazon-research\\data\\yahoo_rakuten_price_output.csv\n"
     ]
    },
    {
     "name": "stdout",
     "output_type": "stream",
     "text": [
      "\n",
      "===== JANコード 4902493450309 の検索を開始 (10/1000) =====\n",
      "Yahoo: JANコード 4902493450309 の商品検索中...\n",
      "3件の商品情報を追記しました: c:\\Users\\inato\\Documents\\amazon-research\\data\\yahoo_rakuten_price_output.csv\n"
     ]
    },
    {
     "name": "stderr",
     "output_type": "stream",
     "text": [
      "2025-04-01 11:43:16,788 - INFO - Rakuten: JANコード 4902493450309 の商品検索を開始\n",
      "2025-04-01 11:43:16,857 - INFO - Rakuten: JANコード 4902493450309 の商品検索結果: 3件\n",
      "2025-04-01 11:43:16,857 - INFO - 3件の商品情報を追記しました: c:\\Users\\inato\\Documents\\amazon-research\\data\\yahoo_rakuten_price_output.csv\n"
     ]
    },
    {
     "name": "stdout",
     "output_type": "stream",
     "text": [
      "Rakuten: JANコード 4902493450309 の商品検索中...\n",
      "3件の商品情報を追記しました: c:\\Users\\inato\\Documents\\amazon-research\\data\\yahoo_rakuten_price_output.csv\n"
     ]
    },
    {
     "name": "stderr",
     "output_type": "stream",
     "text": [
      "2025-04-01 11:43:17,870 - INFO - Yahoo: JANコード 4549731475894 の商品検索を開始\n",
      "2025-04-01 11:43:17,927 - INFO - Yahoo: JANコード 4549731475894 の商品検索結果: 2件\n",
      "2025-04-01 11:43:17,941 - INFO - 2件の商品情報を追記しました: c:\\Users\\inato\\Documents\\amazon-research\\data\\yahoo_rakuten_price_output.csv\n"
     ]
    },
    {
     "name": "stdout",
     "output_type": "stream",
     "text": [
      "\n",
      "===== JANコード 4549731475894 の検索を開始 (11/1000) =====\n",
      "Yahoo: JANコード 4549731475894 の商品検索中...\n",
      "2件の商品情報を追記しました: c:\\Users\\inato\\Documents\\amazon-research\\data\\yahoo_rakuten_price_output.csv\n"
     ]
    },
    {
     "name": "stderr",
     "output_type": "stream",
     "text": [
      "2025-04-01 11:43:18,943 - INFO - Rakuten: JANコード 4549731475894 の商品検索を開始\n",
      "2025-04-01 11:43:19,040 - INFO - Rakuten: JANコード 4549731475894 の商品検索結果: 3件\n",
      "2025-04-01 11:43:19,040 - INFO - 3件の商品情報を追記しました: c:\\Users\\inato\\Documents\\amazon-research\\data\\yahoo_rakuten_price_output.csv\n"
     ]
    },
    {
     "name": "stdout",
     "output_type": "stream",
     "text": [
      "Rakuten: JANコード 4549731475894 の商品検索中...\n",
      "3件の商品情報を追記しました: c:\\Users\\inato\\Documents\\amazon-research\\data\\yahoo_rakuten_price_output.csv\n"
     ]
    },
    {
     "name": "stderr",
     "output_type": "stream",
     "text": [
      "2025-04-01 11:43:20,053 - INFO - Yahoo: JANコード 4904140583538 の商品検索を開始\n",
      "2025-04-01 11:43:20,127 - INFO - Yahoo: JANコード 4904140583538 の商品検索結果: 3件\n",
      "2025-04-01 11:43:20,127 - INFO - 3件の商品情報を追記しました: c:\\Users\\inato\\Documents\\amazon-research\\data\\yahoo_rakuten_price_output.csv\n"
     ]
    },
    {
     "name": "stdout",
     "output_type": "stream",
     "text": [
      "\n",
      "===== JANコード 4904140583538 の検索を開始 (12/1000) =====\n",
      "Yahoo: JANコード 4904140583538 の商品検索中...\n",
      "3件の商品情報を追記しました: c:\\Users\\inato\\Documents\\amazon-research\\data\\yahoo_rakuten_price_output.csv\n"
     ]
    },
    {
     "name": "stderr",
     "output_type": "stream",
     "text": [
      "2025-04-01 11:43:21,136 - INFO - Rakuten: JANコード 4904140583538 の商品検索を開始\n",
      "2025-04-01 11:43:21,237 - INFO - Rakuten: JANコード 4904140583538 の商品検索結果: 3件\n",
      "2025-04-01 11:43:21,242 - INFO - 3件の商品情報を追記しました: c:\\Users\\inato\\Documents\\amazon-research\\data\\yahoo_rakuten_price_output.csv\n"
     ]
    },
    {
     "name": "stdout",
     "output_type": "stream",
     "text": [
      "Rakuten: JANコード 4904140583538 の商品検索中...\n",
      "3件の商品情報を追記しました: c:\\Users\\inato\\Documents\\amazon-research\\data\\yahoo_rakuten_price_output.csv\n"
     ]
    },
    {
     "name": "stderr",
     "output_type": "stream",
     "text": [
      "2025-04-01 11:43:22,244 - INFO - Yahoo: JANコード 4562344375580 の商品検索を開始\n",
      "2025-04-01 11:43:22,309 - INFO - Yahoo: JANコード 4562344375580 の商品検索結果: 3件\n",
      "2025-04-01 11:43:22,309 - INFO - 3件の商品情報を追記しました: c:\\Users\\inato\\Documents\\amazon-research\\data\\yahoo_rakuten_price_output.csv\n"
     ]
    },
    {
     "name": "stdout",
     "output_type": "stream",
     "text": [
      "\n",
      "===== JANコード 4562344375580 の検索を開始 (13/1000) =====\n",
      "Yahoo: JANコード 4562344375580 の商品検索中...\n",
      "3件の商品情報を追記しました: c:\\Users\\inato\\Documents\\amazon-research\\data\\yahoo_rakuten_price_output.csv\n"
     ]
    },
    {
     "name": "stderr",
     "output_type": "stream",
     "text": [
      "2025-04-01 11:43:23,321 - INFO - Rakuten: JANコード 4562344375580 の商品検索を開始\n",
      "2025-04-01 11:43:23,421 - INFO - Rakuten: JANコード 4562344375580 の商品検索結果: 3件\n",
      "2025-04-01 11:43:23,424 - INFO - 3件の商品情報を追記しました: c:\\Users\\inato\\Documents\\amazon-research\\data\\yahoo_rakuten_price_output.csv\n"
     ]
    },
    {
     "name": "stdout",
     "output_type": "stream",
     "text": [
      "Rakuten: JANコード 4562344375580 の商品検索中...\n",
      "3件の商品情報を追記しました: c:\\Users\\inato\\Documents\\amazon-research\\data\\yahoo_rakuten_price_output.csv\n"
     ]
    },
    {
     "name": "stderr",
     "output_type": "stream",
     "text": [
      "2025-04-01 11:43:24,425 - INFO - Yahoo: JANコード 4562344382496 の商品検索を開始\n",
      "2025-04-01 11:43:24,493 - INFO - Yahoo: JANコード 4562344382496 の商品検索結果: 3件\n",
      "2025-04-01 11:43:24,508 - INFO - 3件の商品情報を追記しました: c:\\Users\\inato\\Documents\\amazon-research\\data\\yahoo_rakuten_price_output.csv\n"
     ]
    },
    {
     "name": "stdout",
     "output_type": "stream",
     "text": [
      "\n",
      "===== JANコード 4562344382496 の検索を開始 (14/1000) =====\n",
      "Yahoo: JANコード 4562344382496 の商品検索中...\n",
      "3件の商品情報を追記しました: c:\\Users\\inato\\Documents\\amazon-research\\data\\yahoo_rakuten_price_output.csv\n"
     ]
    },
    {
     "name": "stderr",
     "output_type": "stream",
     "text": [
      "2025-04-01 11:43:25,509 - INFO - Rakuten: JANコード 4562344382496 の商品検索を開始\n",
      "2025-04-01 11:43:25,562 - INFO - Rakuten: JANコード 4562344382496 の商品検索結果: 3件\n",
      "2025-04-01 11:43:25,575 - INFO - 3件の商品情報を追記しました: c:\\Users\\inato\\Documents\\amazon-research\\data\\yahoo_rakuten_price_output.csv\n"
     ]
    },
    {
     "name": "stdout",
     "output_type": "stream",
     "text": [
      "Rakuten: JANコード 4562344382496 の商品検索中...\n",
      "3件の商品情報を追記しました: c:\\Users\\inato\\Documents\\amazon-research\\data\\yahoo_rakuten_price_output.csv\n"
     ]
    },
    {
     "name": "stderr",
     "output_type": "stream",
     "text": [
      "2025-04-01 11:43:26,576 - INFO - Yahoo: JANコード 4562344382502 の商品検索を開始\n",
      "2025-04-01 11:43:26,675 - INFO - Yahoo: JANコード 4562344382502 の商品検索結果: 3件\n",
      "2025-04-01 11:43:26,679 - INFO - 3件の商品情報を追記しました: c:\\Users\\inato\\Documents\\amazon-research\\data\\yahoo_rakuten_price_output.csv\n"
     ]
    },
    {
     "name": "stdout",
     "output_type": "stream",
     "text": [
      "\n",
      "===== JANコード 4562344382502 の検索を開始 (15/1000) =====\n",
      "Yahoo: JANコード 4562344382502 の商品検索中...\n",
      "3件の商品情報を追記しました: c:\\Users\\inato\\Documents\\amazon-research\\data\\yahoo_rakuten_price_output.csv\n"
     ]
    },
    {
     "name": "stderr",
     "output_type": "stream",
     "text": [
      "2025-04-01 11:43:27,680 - INFO - Rakuten: JANコード 4562344382502 の商品検索を開始\n",
      "2025-04-01 11:43:27,762 - INFO - Rakuten: JANコード 4562344382502 の商品検索結果: 3件\n",
      "2025-04-01 11:43:27,764 - INFO - 3件の商品情報を追記しました: c:\\Users\\inato\\Documents\\amazon-research\\data\\yahoo_rakuten_price_output.csv\n"
     ]
    },
    {
     "name": "stdout",
     "output_type": "stream",
     "text": [
      "Rakuten: JANコード 4562344382502 の商品検索中...\n",
      "3件の商品情報を追記しました: c:\\Users\\inato\\Documents\\amazon-research\\data\\yahoo_rakuten_price_output.csv\n"
     ]
    },
    {
     "name": "stderr",
     "output_type": "stream",
     "text": [
      "2025-04-01 11:43:28,766 - INFO - Yahoo: JANコード 4562344375573 の商品検索を開始\n",
      "2025-04-01 11:43:28,843 - INFO - Yahoo: JANコード 4562344375573 の商品検索結果: 3件\n",
      "2025-04-01 11:43:28,846 - INFO - 3件の商品情報を追記しました: c:\\Users\\inato\\Documents\\amazon-research\\data\\yahoo_rakuten_price_output.csv\n"
     ]
    },
    {
     "name": "stdout",
     "output_type": "stream",
     "text": [
      "\n",
      "===== JANコード 4562344375573 の検索を開始 (16/1000) =====\n",
      "Yahoo: JANコード 4562344375573 の商品検索中...\n",
      "3件の商品情報を追記しました: c:\\Users\\inato\\Documents\\amazon-research\\data\\yahoo_rakuten_price_output.csv\n"
     ]
    },
    {
     "name": "stderr",
     "output_type": "stream",
     "text": [
      "2025-04-01 11:43:29,848 - INFO - Rakuten: JANコード 4562344375573 の商品検索を開始\n",
      "2025-04-01 11:43:29,910 - INFO - Rakuten: JANコード 4562344375573 の商品検索結果: 3件\n",
      "2025-04-01 11:43:29,910 - INFO - 3件の商品情報を追記しました: c:\\Users\\inato\\Documents\\amazon-research\\data\\yahoo_rakuten_price_output.csv\n"
     ]
    },
    {
     "name": "stdout",
     "output_type": "stream",
     "text": [
      "Rakuten: JANコード 4562344375573 の商品検索中...\n",
      "3件の商品情報を追記しました: c:\\Users\\inato\\Documents\\amazon-research\\data\\yahoo_rakuten_price_output.csv\n"
     ]
    },
    {
     "name": "stderr",
     "output_type": "stream",
     "text": [
      "2025-04-01 11:43:30,916 - INFO - Yahoo: JANコード 4562344375559 の商品検索を開始\n",
      "2025-04-01 11:43:31,021 - INFO - Yahoo: JANコード 4562344375559 の商品検索結果: 3件\n",
      "2025-04-01 11:43:31,024 - INFO - 3件の商品情報を追記しました: c:\\Users\\inato\\Documents\\amazon-research\\data\\yahoo_rakuten_price_output.csv\n"
     ]
    },
    {
     "name": "stdout",
     "output_type": "stream",
     "text": [
      "\n",
      "===== JANコード 4562344375559 の検索を開始 (17/1000) =====\n",
      "Yahoo: JANコード 4562344375559 の商品検索中...\n",
      "3件の商品情報を追記しました: c:\\Users\\inato\\Documents\\amazon-research\\data\\yahoo_rakuten_price_output.csv\n"
     ]
    },
    {
     "name": "stderr",
     "output_type": "stream",
     "text": [
      "2025-04-01 11:43:32,027 - INFO - Rakuten: JANコード 4562344375559 の商品検索を開始\n",
      "2025-04-01 11:43:32,120 - INFO - Rakuten: JANコード 4562344375559 の商品検索結果: 3件\n",
      "2025-04-01 11:43:32,123 - INFO - 3件の商品情報を追記しました: c:\\Users\\inato\\Documents\\amazon-research\\data\\yahoo_rakuten_price_output.csv\n"
     ]
    },
    {
     "name": "stdout",
     "output_type": "stream",
     "text": [
      "Rakuten: JANコード 4562344375559 の商品検索中...\n",
      "3件の商品情報を追記しました: c:\\Users\\inato\\Documents\\amazon-research\\data\\yahoo_rakuten_price_output.csv\n"
     ]
    },
    {
     "name": "stderr",
     "output_type": "stream",
     "text": [
      "2025-04-01 11:43:33,125 - INFO - Yahoo: JANコード 4562344375566 の商品検索を開始\n",
      "2025-04-01 11:43:33,223 - INFO - Yahoo: JANコード 4562344375566 の商品検索結果: 3件\n",
      "2025-04-01 11:43:33,223 - INFO - 3件の商品情報を追記しました: c:\\Users\\inato\\Documents\\amazon-research\\data\\yahoo_rakuten_price_output.csv\n"
     ]
    },
    {
     "name": "stdout",
     "output_type": "stream",
     "text": [
      "\n",
      "===== JANコード 4562344375566 の検索を開始 (18/1000) =====\n",
      "Yahoo: JANコード 4562344375566 の商品検索中...\n",
      "3件の商品情報を追記しました: c:\\Users\\inato\\Documents\\amazon-research\\data\\yahoo_rakuten_price_output.csv\n"
     ]
    },
    {
     "name": "stderr",
     "output_type": "stream",
     "text": [
      "2025-04-01 11:43:34,228 - INFO - Rakuten: JANコード 4562344375566 の商品検索を開始\n",
      "2025-04-01 11:43:34,293 - INFO - Rakuten: JANコード 4562344375566 の商品検索結果: 3件\n",
      "2025-04-01 11:43:34,295 - INFO - 3件の商品情報を追記しました: c:\\Users\\inato\\Documents\\amazon-research\\data\\yahoo_rakuten_price_output.csv\n"
     ]
    },
    {
     "name": "stdout",
     "output_type": "stream",
     "text": [
      "Rakuten: JANコード 4562344375566 の商品検索中...\n",
      "3件の商品情報を追記しました: c:\\Users\\inato\\Documents\\amazon-research\\data\\yahoo_rakuten_price_output.csv\n"
     ]
    },
    {
     "name": "stderr",
     "output_type": "stream",
     "text": [
      "2025-04-01 11:43:35,297 - INFO - Yahoo: JANコード 4901987234975 の商品検索を開始\n",
      "2025-04-01 11:43:35,361 - INFO - Yahoo: JANコード 4901987234975 の商品検索結果: 3件\n",
      "2025-04-01 11:43:35,364 - INFO - 3件の商品情報を追記しました: c:\\Users\\inato\\Documents\\amazon-research\\data\\yahoo_rakuten_price_output.csv\n"
     ]
    },
    {
     "name": "stdout",
     "output_type": "stream",
     "text": [
      "\n",
      "===== JANコード 4901987234975 の検索を開始 (19/1000) =====\n",
      "Yahoo: JANコード 4901987234975 の商品検索中...\n",
      "3件の商品情報を追記しました: c:\\Users\\inato\\Documents\\amazon-research\\data\\yahoo_rakuten_price_output.csv\n"
     ]
    },
    {
     "name": "stderr",
     "output_type": "stream",
     "text": [
      "2025-04-01 11:43:36,366 - INFO - Rakuten: JANコード 4901987234975 の商品検索を開始\n",
      "2025-04-01 11:43:36,429 - INFO - Rakuten: JANコード 4901987234975 の商品検索結果: 3件\n",
      "2025-04-01 11:43:36,432 - INFO - 3件の商品情報を追記しました: c:\\Users\\inato\\Documents\\amazon-research\\data\\yahoo_rakuten_price_output.csv\n"
     ]
    },
    {
     "name": "stdout",
     "output_type": "stream",
     "text": [
      "Rakuten: JANコード 4901987234975 の商品検索中...\n",
      "3件の商品情報を追記しました: c:\\Users\\inato\\Documents\\amazon-research\\data\\yahoo_rakuten_price_output.csv\n"
     ]
    },
    {
     "name": "stderr",
     "output_type": "stream",
     "text": [
      "2025-04-01 11:43:37,434 - INFO - Yahoo: JANコード 4562344384919 の商品検索を開始\n",
      "2025-04-01 11:43:37,508 - INFO - Yahoo: JANコード 4562344384919 の商品検索結果: 3件\n",
      "2025-04-01 11:43:37,511 - INFO - 3件の商品情報を追記しました: c:\\Users\\inato\\Documents\\amazon-research\\data\\yahoo_rakuten_price_output.csv\n"
     ]
    },
    {
     "name": "stdout",
     "output_type": "stream",
     "text": [
      "\n",
      "===== JANコード 4562344384919 の検索を開始 (20/1000) =====\n",
      "Yahoo: JANコード 4562344384919 の商品検索中...\n",
      "3件の商品情報を追記しました: c:\\Users\\inato\\Documents\\amazon-research\\data\\yahoo_rakuten_price_output.csv\n"
     ]
    },
    {
     "name": "stderr",
     "output_type": "stream",
     "text": [
      "2025-04-01 11:43:38,513 - INFO - Rakuten: JANコード 4562344384919 の商品検索を開始\n",
      "2025-04-01 11:43:38,592 - INFO - Rakuten: JANコード 4562344384919 の商品検索結果: 3件\n",
      "2025-04-01 11:43:38,595 - INFO - 3件の商品情報を追記しました: c:\\Users\\inato\\Documents\\amazon-research\\data\\yahoo_rakuten_price_output.csv\n"
     ]
    },
    {
     "name": "stdout",
     "output_type": "stream",
     "text": [
      "Rakuten: JANコード 4562344384919 の商品検索中...\n",
      "3件の商品情報を追記しました: c:\\Users\\inato\\Documents\\amazon-research\\data\\yahoo_rakuten_price_output.csv\n"
     ]
    },
    {
     "name": "stderr",
     "output_type": "stream",
     "text": [
      "2025-04-01 11:43:39,596 - INFO - Yahoo: JANコード 4904681631644 の商品検索を開始\n",
      "2025-04-01 11:43:39,678 - INFO - Yahoo: JANコード 4904681631644 の商品検索結果: 3件\n",
      "2025-04-01 11:43:39,682 - INFO - 3件の商品情報を追記しました: c:\\Users\\inato\\Documents\\amazon-research\\data\\yahoo_rakuten_price_output.csv\n"
     ]
    },
    {
     "name": "stdout",
     "output_type": "stream",
     "text": [
      "\n",
      "===== JANコード 4904681631644 の検索を開始 (21/1000) =====\n",
      "Yahoo: JANコード 4904681631644 の商品検索中...\n",
      "3件の商品情報を追記しました: c:\\Users\\inato\\Documents\\amazon-research\\data\\yahoo_rakuten_price_output.csv\n"
     ]
    },
    {
     "ename": "KeyboardInterrupt",
     "evalue": "",
     "output_type": "error",
     "traceback": [
      "\u001b[1;31m---------------------------------------------------------------------------\u001b[0m",
      "\u001b[1;31mKeyboardInterrupt\u001b[0m                         Traceback (most recent call last)",
      "Cell \u001b[1;32mIn[6], line 10\u001b[0m\n\u001b[0;32m      8\u001b[0m \u001b[38;5;66;03m# 交互検索を実行\u001b[39;00m\n\u001b[0;32m      9\u001b[0m start_time \u001b[38;5;241m=\u001b[39m time\u001b[38;5;241m.\u001b[39mtime()\n\u001b[1;32m---> 10\u001b[0m total_items \u001b[38;5;241m=\u001b[39m price_search\u001b[38;5;241m.\u001b[39malternating_search()\n\u001b[0;32m     11\u001b[0m end_time \u001b[38;5;241m=\u001b[39m time\u001b[38;5;241m.\u001b[39mtime()\n\u001b[0;32m     13\u001b[0m \u001b[38;5;66;03m# 実行時間の表示\u001b[39;00m\n",
      "Cell \u001b[1;32mIn[5], line 57\u001b[0m, in \u001b[0;36malternating_search\u001b[1;34m(self, input_file, max_items)\u001b[0m\n\u001b[0;32m     54\u001b[0m     total_items \u001b[38;5;241m+\u001b[39m\u001b[38;5;241m=\u001b[39m \u001b[38;5;28mlen\u001b[39m(yahoo_products)\n\u001b[0;32m     56\u001b[0m \u001b[38;5;66;03m# Yahoo API呼び出し後の安全な待機（1秒）\u001b[39;00m\n\u001b[1;32m---> 57\u001b[0m time\u001b[38;5;241m.\u001b[39msleep(\u001b[38;5;241m1.0\u001b[39m)\n\u001b[0;32m     59\u001b[0m \u001b[38;5;66;03m# 2. Rakuten検索\u001b[39;00m\n\u001b[0;32m     60\u001b[0m rakuten_products \u001b[38;5;241m=\u001b[39m \u001b[38;5;28mself\u001b[39m\u001b[38;5;241m.\u001b[39mrakuten_search_by_jan(jan_code, max_items)\n",
      "\u001b[1;31mKeyboardInterrupt\u001b[0m: "
     ]
    }
   ],
   "source": [
    "# セル5: メイン処理（実行）\n",
    "\n",
    "if __name__ == \"__main__\":\n",
    "    try:\n",
    "        # YahooRakutenPriceSearchのインスタンスを作成\n",
    "        price_search = YahooRakutenPriceSearch()\n",
    "        \n",
    "        # 交互検索を実行\n",
    "        start_time = time.time()\n",
    "        total_items = price_search.alternating_search()\n",
    "        end_time = time.time()\n",
    "        \n",
    "        # 実行時間の表示\n",
    "        elapsed = end_time - start_time\n",
    "        print(f\"処理時間: {elapsed:.2f}秒\")\n",
    "        \n",
    "        # 成功メッセージ\n",
    "        if total_items > 0:\n",
    "            print(f\"✅ 処理が完了しました！合計{total_items}件の商品情報を取得しました\")\n",
    "            print(f\"結果は {os.path.join(price_search.data_dir, 'yahoo_rakuten_price_output.csv')} に保存されました\")\n",
    "        else:\n",
    "            print(\"❌ 商品情報を取得できませんでした\")\n",
    "        \n",
    "    except Exception as e:\n",
    "        print(f\"エラーが発生しました: {str(e)}\")\n",
    "        import traceback\n",
    "        traceback.print_exc()"
   ]
  },
  {
   "cell_type": "code",
   "execution_count": null,
   "id": "180537ea-695e-41e2-9f04-1842cbaa4ca6",
   "metadata": {},
   "outputs": [],
   "source": [
    "b"
   ]
  },
  {
   "cell_type": "code",
   "execution_count": null,
   "id": "6ca7c25f-ab3e-4c67-b1de-d7b0f2c51e3f",
   "metadata": {},
   "outputs": [],
   "source": []
  },
  {
   "cell_type": "code",
   "execution_count": null,
   "id": "1baa77fe-5559-43e2-95a0-4fb68e2d97f5",
   "metadata": {},
   "outputs": [],
   "source": []
  },
  {
   "cell_type": "code",
   "execution_count": null,
   "id": "f0cabdc2-37cf-4b14-98f6-5dcd6aaed03d",
   "metadata": {},
   "outputs": [],
   "source": []
  },
  {
   "cell_type": "code",
   "execution_count": null,
   "id": "a0527828-0d74-4b91-a8aa-7bc4108c34af",
   "metadata": {},
   "outputs": [],
   "source": []
  }
 ],
 "metadata": {
  "kernelspec": {
   "display_name": "base",
   "language": "python",
   "name": "python3"
  },
  "language_info": {
   "codemirror_mode": {
    "name": "ipython",
    "version": 3
   },
   "file_extension": ".py",
   "mimetype": "text/x-python",
   "name": "python",
   "nbconvert_exporter": "python",
   "pygments_lexer": "ipython3",
   "version": "3.12.7"
  }
 },
 "nbformat": 4,
 "nbformat_minor": 5
}
